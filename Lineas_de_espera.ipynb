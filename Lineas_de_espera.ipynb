{
  "nbformat": 4,
  "nbformat_minor": 0,
  "metadata": {
    "colab": {
      "name": "Lineas de espera.ipynb",
      "provenance": [],
      "collapsed_sections": [],
      "authorship_tag": "ABX9TyMNLJTe6Y3WkXzATRD1N75S",
      "include_colab_link": true
    },
    "kernelspec": {
      "name": "python3",
      "display_name": "Python 3"
    },
    "language_info": {
      "name": "python"
    }
  },
  "cells": [
    {
      "cell_type": "markdown",
      "metadata": {
        "id": "view-in-github",
        "colab_type": "text"
      },
      "source": [
        "<a href=\"https://colab.research.google.com/github/JesusRosales1309/Simulacion_1/blob/main/Lineas_de_espera.ipynb\" target=\"_parent\"><img src=\"https://colab.research.google.com/assets/colab-badge.svg\" alt=\"Open In Colab\"/></a>"
      ]
    },
    {
      "cell_type": "markdown",
      "metadata": {
        "id": "NlKZLX84pvga"
      },
      "source": [
        "\n",
        "\n",
        "\n",
        "# **Simulación de lineas de espera**\n",
        "\n",
        "\n",
        "1. Los usuarios llegan siguiendo un proceso de poisson con parámetro lamda usuarios/unidad de tiempo (l_l).\n",
        "2. Primero en legar, primero en salir.\n",
        "3. Los tiempos de atención en el servidor siguen una distribución exponencial con parametro alpha (l_s).\n",
        "4. Se tiene un servidor.\n",
        "\n",
        "\n",
        "\n",
        "\n"
      ]
    },
    {
      "cell_type": "markdown",
      "metadata": {
        "id": "TrGAoikZuY28"
      },
      "source": [
        "T= Tiempo de simulación.; tl=Tiempo en que ocurre la próxima llegada de un usuario. \n",
        "ts= Tiempo en que ocurre la próxima salida de un usuario.\n",
        "l_l= parámetro del proceso de poisson de las llegadas.\n",
        "L_s=Parámetro de los tiempos de atención a los usuarios \n",
        "l= Número de personas en el sistema(los que están esperando +1 por la persona que se esta atendiendo si es el caso)\n"
      ]
    },
    {
      "cell_type": "code",
      "metadata": {
        "colab": {
          "base_uri": "https://localhost:8080/"
        },
        "id": "lV6bKZGtpuj3",
        "outputId": "01d79700-5fda-4eac-a328-20e7dd82b5ed"
      },
      "source": [
        "from math import log\n",
        "from random import Random,random\n",
        "\n",
        "T=10\n",
        "l_l=1\n",
        "l_s=2\n",
        "t=0\n",
        "infi=100000000\n",
        "ts=infi\n",
        "tl=0\n",
        "l=0\n",
        "#Se ocupa el min para que no se pase de 10\n",
        "while min(tl,ts)<T:\n",
        "    t=min(tl,ts)\n",
        "    if t==tl:\n",
        "        l=l+1\n",
        "        print(\"{:.2f}\".format(tl),l)\n",
        "        #aunque es menos en realidad se suma el tiempo por el log\n",
        "        tl=t-(1./l_l)*log(random())\n",
        "        if l==1:\n",
        "            ts=t-(1./l_s)*log(random())\n",
        "    else:\n",
        "        l=l-1\n",
        "        print(\"               \",\"{:.2f}\".format(ts),l)\n",
        "        if l>0:\n",
        "            ts=t-(1./l_s)*log(random())\n",
        "        else:\n",
        "            ts=infi"
      ],
      "execution_count": 2,
      "outputs": [
        {
          "output_type": "stream",
          "name": "stdout",
          "text": [
            "0.00 1\n",
            "0.24 2\n",
            "0.81 3\n",
            "0.97 4\n",
            "                1.12 3\n",
            "                1.73 2\n",
            "1.92 3\n",
            "1.96 4\n",
            "1.99 5\n",
            "                2.04 4\n",
            "                2.25 3\n",
            "                2.35 2\n",
            "2.42 3\n",
            "2.46 4\n",
            "                2.54 3\n",
            "                2.75 2\n",
            "                3.12 1\n",
            "3.45 2\n",
            "3.60 3\n",
            "                4.04 2\n",
            "                4.16 1\n",
            "4.17 2\n",
            "4.36 3\n",
            "                4.57 2\n",
            "                4.90 1\n",
            "                5.07 0\n",
            "5.34 1\n",
            "5.55 2\n",
            "5.62 3\n",
            "5.65 4\n",
            "                5.85 3\n",
            "6.11 4\n",
            "6.65 5\n",
            "                6.88 4\n",
            "7.98 5\n",
            "                8.23 4\n",
            "                8.39 3\n",
            "9.44 4\n",
            "                9.53 3\n"
          ]
        }
      ]
    }
  ]
}