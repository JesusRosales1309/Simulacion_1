{
  "nbformat": 4,
  "nbformat_minor": 0,
  "metadata": {
    "colab": {
      "name": "Lineas de espera.ipynb",
      "provenance": [],
      "collapsed_sections": [],
      "authorship_tag": "ABX9TyPO/vFCppWNxtpoE7CeLbVW",
      "include_colab_link": true
    },
    "kernelspec": {
      "name": "python3",
      "display_name": "Python 3"
    },
    "language_info": {
      "name": "python"
    }
  },
  "cells": [
    {
      "cell_type": "markdown",
      "metadata": {
        "id": "view-in-github",
        "colab_type": "text"
      },
      "source": [
        "<a href=\"https://colab.research.google.com/github/JesusRosales1309/Simulacion_1/blob/main/Lineas_de_espera.ipynb\" target=\"_parent\"><img src=\"https://colab.research.google.com/assets/colab-badge.svg\" alt=\"Open In Colab\"/></a>"
      ]
    },
    {
      "cell_type": "markdown",
      "metadata": {
        "id": "NlKZLX84pvga"
      },
      "source": [
        "\n",
        "\n",
        "\n",
        "# **Simulación de lineas de espera**\n",
        "\n",
        "\n",
        "1. Los usuarios llegan siguiendo un proceso de poisson con parámetro lamda usuarios/unidad de tiempo (l_l).\n",
        "2. Primero en legar, primero en salir.\n",
        "3. Los tiempos de atención en el servidor siguen una distribución exponencial con parametro alpha (l_s).\n",
        "4. Se tiene un servidor.\n",
        "\n",
        "\n",
        "\n",
        "\n"
      ]
    },
    {
      "cell_type": "markdown",
      "metadata": {
        "id": "TrGAoikZuY28"
      },
      "source": [
        "T= Tiempo de simulación.; tl=Tiempo en que ocurre la próxima llegada de un usuario. \n",
        "ts= Tiempo en que ocurre la próxima salida de un usuario.\n",
        "l_l= parámetro del proceso de poisson de las llegadas.\n",
        "L_s=Parámetro de los tiempos de atención a los usuarios \n",
        "l= Número de personas en el sistema(los que están esperando +1 por la persona que se esta atendiendo si es el caso)\n"
      ]
    },
    {
      "cell_type": "code",
      "metadata": {
        "colab": {
          "base_uri": "https://localhost:8080/"
        },
        "id": "lV6bKZGtpuj3",
        "outputId": "e3fc055e-a242-4278-b947-b16913276319"
      },
      "source": [
        "from math import log\n",
        "from random import Random,random\n",
        "\n",
        "T=10\n",
        "l_l=1\n",
        "l_s=2\n",
        "t=0\n",
        "infi=100000000\n",
        "ts=infi\n",
        "tl=0\n",
        "l=0\n",
        "#Se ocupa el min para que no se pase de 10\n",
        "while min(tl,ts)<T:\n",
        "    t=min(tl,ts)\n",
        "    if t==tl:\n",
        "        l=l+1\n",
        "        print(\"{:.2f}\".format(tl),l)\n",
        "        #aunque es menos en realidad se suma el tiempo por el log\n",
        "        tl=t-(1./l_l)*log(random())\n",
        "        if l==1:\n",
        "            ts=t-(1./l_s)*log(random())\n",
        "    else:\n",
        "        l=l-1\n",
        "        print(\"               \",\"{:.2f}\".format(ts),l)\n",
        "        if l==0:\n",
        "            ts=infi\n",
        "        else:\n",
        "            ts=t-(1./l_s)*log(random())\n",
        "            \n"
      ],
      "execution_count": 1,
      "outputs": [
        {
          "output_type": "stream",
          "name": "stdout",
          "text": [
            "0.00 1\n",
            "0.22 2\n",
            "                0.23 1\n",
            "0.74 2\n",
            "                0.88 1\n",
            "                0.98 0\n",
            "1.81 1\n",
            "1.83 2\n",
            "                1.95 1\n",
            "1.99 2\n",
            "                2.73 1\n",
            "                3.10 0\n",
            "3.86 1\n",
            "4.27 2\n",
            "4.29 3\n",
            "                4.40 2\n",
            "                4.54 1\n",
            "                4.58 0\n",
            "5.35 1\n",
            "5.50 2\n",
            "                5.88 1\n",
            "                6.87 0\n",
            "7.27 1\n",
            "                7.49 0\n",
            "9.47 1\n",
            "                9.67 0\n",
            "9.82 1\n"
          ]
        }
      ]
    }
  ]
}